{
 "cells": [
  {
   "cell_type": "code",
   "execution_count": null,
   "id": "50e5757e-b18b-4e33-9fee-b0d80694f3d3",
   "metadata": {},
   "outputs": [],
   "source": [
    "Question 1 - Extracting Tesla Stock Data Using yfinance"
   ]
  },
  {
   "cell_type": "code",
   "execution_count": 2,
   "id": "490ab7f8-c5ca-48ba-81eb-9cd3edbf7694",
   "metadata": {},
   "outputs": [],
   "source": [
    "import yfinance as yf"
   ]
  },
  {
   "cell_type": "code",
   "execution_count": 3,
   "id": "a0a7ddb0-b26b-4407-8d2c-ae3c55a4649e",
   "metadata": {},
   "outputs": [],
   "source": [
    "# Load Tesla stock data\n",
    "tsla = yf.Ticker(\"TSLA\")"
   ]
  },
  {
   "cell_type": "code",
   "execution_count": 4,
   "id": "de121980-d6af-44d3-a775-7ebb37f3245f",
   "metadata": {},
   "outputs": [],
   "source": [
    "# Get historical market data\n",
    "data = tsla.history(period=\"1y\")"
   ]
  },
  {
   "cell_type": "code",
   "execution_count": 5,
   "id": "8f0dc886-a772-4de6-be78-7bf9ae88435d",
   "metadata": {},
   "outputs": [
    {
     "name": "stdout",
     "output_type": "stream",
     "text": [
      "                                 Open        High         Low       Close  \\\n",
      "Date                                                                        \n",
      "2024-06-12 00:00:00-04:00  171.119995  180.550003  169.800003  177.289993   \n",
      "2024-06-13 00:00:00-04:00  188.389999  191.080002  181.229996  182.470001   \n",
      "2024-06-14 00:00:00-04:00  185.800003  186.000000  176.919998  178.009995   \n",
      "2024-06-17 00:00:00-04:00  177.919998  188.809998  177.000000  187.440002   \n",
      "2024-06-18 00:00:00-04:00  186.559998  187.199997  182.369995  184.860001   \n",
      "\n",
      "                              Volume  Dividends  Stock Splits  \n",
      "Date                                                           \n",
      "2024-06-12 00:00:00-04:00   90389400        0.0           0.0  \n",
      "2024-06-13 00:00:00-04:00  118984100        0.0           0.0  \n",
      "2024-06-14 00:00:00-04:00   82038200        0.0           0.0  \n",
      "2024-06-17 00:00:00-04:00  109786100        0.0           0.0  \n",
      "2024-06-18 00:00:00-04:00   68982300        0.0           0.0  \n"
     ]
    }
   ],
   "source": [
    "# Print the first 5 rows\n",
    "print(data.head())"
   ]
  },
  {
   "cell_type": "code",
   "execution_count": null,
   "id": "d59eea10-900e-452d-a5da-14553a077805",
   "metadata": {},
   "outputs": [],
   "source": [
    "Question 2 - Extracting Tesla Revenue Data Using Webscraping"
   ]
  },
  {
   "cell_type": "code",
   "execution_count": 1,
   "id": "7db4b77d-be9e-4a24-9c51-6522b8cb9374",
   "metadata": {},
   "outputs": [
    {
     "name": "stdout",
     "output_type": "stream",
     "text": [
      "Requirement already satisfied: requests in c:\\users\\joshua albert\\appdata\\local\\programs\\python\\python313\\lib\\site-packages (2.32.4)\n",
      "Requirement already satisfied: beautifulsoup4 in c:\\users\\joshua albert\\appdata\\local\\programs\\python\\python313\\lib\\site-packages (4.13.4)\n",
      "Requirement already satisfied: pandas in c:\\users\\joshua albert\\appdata\\local\\programs\\python\\python313\\lib\\site-packages (2.3.0)\n",
      "Requirement already satisfied: charset_normalizer<4,>=2 in c:\\users\\joshua albert\\appdata\\local\\programs\\python\\python313\\lib\\site-packages (from requests) (3.4.2)\n",
      "Requirement already satisfied: idna<4,>=2.5 in c:\\users\\joshua albert\\appdata\\local\\programs\\python\\python313\\lib\\site-packages (from requests) (3.10)\n",
      "Requirement already satisfied: urllib3<3,>=1.21.1 in c:\\users\\joshua albert\\appdata\\local\\programs\\python\\python313\\lib\\site-packages (from requests) (2.4.0)\n",
      "Requirement already satisfied: certifi>=2017.4.17 in c:\\users\\joshua albert\\appdata\\local\\programs\\python\\python313\\lib\\site-packages (from requests) (2025.4.26)\n",
      "Requirement already satisfied: soupsieve>1.2 in c:\\users\\joshua albert\\appdata\\local\\programs\\python\\python313\\lib\\site-packages (from beautifulsoup4) (2.7)\n",
      "Requirement already satisfied: typing-extensions>=4.0.0 in c:\\users\\joshua albert\\appdata\\local\\programs\\python\\python313\\lib\\site-packages (from beautifulsoup4) (4.14.0)\n",
      "Requirement already satisfied: numpy>=1.26.0 in c:\\users\\joshua albert\\appdata\\local\\programs\\python\\python313\\lib\\site-packages (from pandas) (2.3.0)\n",
      "Requirement already satisfied: python-dateutil>=2.8.2 in c:\\users\\joshua albert\\appdata\\local\\programs\\python\\python313\\lib\\site-packages (from pandas) (2.9.0.post0)\n",
      "Requirement already satisfied: pytz>=2020.1 in c:\\users\\joshua albert\\appdata\\local\\programs\\python\\python313\\lib\\site-packages (from pandas) (2025.2)\n",
      "Requirement already satisfied: tzdata>=2022.7 in c:\\users\\joshua albert\\appdata\\local\\programs\\python\\python313\\lib\\site-packages (from pandas) (2025.2)\n",
      "Requirement already satisfied: six>=1.5 in c:\\users\\joshua albert\\appdata\\local\\programs\\python\\python313\\lib\\site-packages (from python-dateutil>=2.8.2->pandas) (1.17.0)\n",
      "Note: you may need to restart the kernel to use updated packages.\n"
     ]
    }
   ],
   "source": [
    "pip install requests beautifulsoup4 pandas"
   ]
  },
  {
   "cell_type": "code",
   "execution_count": 2,
   "id": "9c16be40-e730-4d1f-9001-e0c5c0e04276",
   "metadata": {},
   "outputs": [],
   "source": [
    "url = 'https://www.macrotrends.net/stocks/charts/TSLA/tesla/revenue'"
   ]
  },
  {
   "cell_type": "code",
   "execution_count": 4,
   "id": "2fe15bad-9b52-49dc-b966-758f12fede5d",
   "metadata": {},
   "outputs": [],
   "source": [
    "headers = {\n",
    "    \"User-Agent\": \"Mozilla/5.0\"\n",
    "}"
   ]
  },
  {
   "cell_type": "code",
   "execution_count": 13,
   "id": "932dbb23-ad85-4dd1-a278-56cf9852d200",
   "metadata": {},
   "outputs": [],
   "source": [
    "import requests"
   ]
  },
  {
   "cell_type": "code",
   "execution_count": 14,
   "id": "b67a091b-bf75-4973-9649-5292dd006f41",
   "metadata": {},
   "outputs": [],
   "source": [
    "response = requests.get(url, headers=headers)"
   ]
  },
  {
   "cell_type": "code",
   "execution_count": 17,
   "id": "3afa3f00-783f-4765-ad8d-2892e9589ac6",
   "metadata": {},
   "outputs": [],
   "source": [
    "from bs4 import BeautifulSoup"
   ]
  },
  {
   "cell_type": "code",
   "execution_count": 18,
   "id": "ec5144ad-88a4-4136-bbcd-452d35315f9b",
   "metadata": {},
   "outputs": [],
   "source": [
    "soup = BeautifulSoup(response.text, 'html.parser')"
   ]
  },
  {
   "cell_type": "code",
   "execution_count": 19,
   "id": "a286ba8f-a966-4671-a356-9ebc320cc246",
   "metadata": {},
   "outputs": [],
   "source": [
    "tables = soup.find_all(\"table\", {\"class\": \"historical_data_table table\"})"
   ]
  },
  {
   "cell_type": "code",
   "execution_count": 20,
   "id": "64f28183-bbe9-4627-9d62-876a75ecbe5c",
   "metadata": {},
   "outputs": [],
   "source": [
    "revenue_table = tables[0]"
   ]
  },
  {
   "cell_type": "code",
   "execution_count": 21,
   "id": "6c5f0542-a72b-40a5-998c-6cf4a0af5f6b",
   "metadata": {},
   "outputs": [],
   "source": [
    "data = []"
   ]
  },
  {
   "cell_type": "code",
   "execution_count": 22,
   "id": "f157fcf4-7948-47c1-ba15-cd620b5b8d64",
   "metadata": {},
   "outputs": [],
   "source": [
    "for row in revenue_table.find_all('tr')[1:]:  # Skip header row\n",
    "    cols = row.find_all('td')\n",
    "    if len(cols) == 2:\n",
    "        date = cols[0].text.strip()\n",
    "        revenue = cols[1].text.strip()\n",
    "        data.append([date, revenue])"
   ]
  },
  {
   "cell_type": "code",
   "execution_count": 24,
   "id": "3afb1da5-3966-4e52-b76a-238d0d082c7c",
   "metadata": {},
   "outputs": [],
   "source": [
    "import pandas as pd"
   ]
  },
  {
   "cell_type": "code",
   "execution_count": 25,
   "id": "4adfd671-9280-4285-a6ca-c2b1569ad3bf",
   "metadata": {},
   "outputs": [
    {
     "name": "stdout",
     "output_type": "stream",
     "text": [
      "   Date  Revenue\n",
      "0  2024  $97,690\n",
      "1  2023  $96,773\n",
      "2  2022  $81,462\n",
      "3  2021  $53,823\n",
      "4  2020  $31,536\n"
     ]
    }
   ],
   "source": [
    "df = pd.DataFrame(data, columns=[\"Date\", \"Revenue\"])\n",
    "print(df.head())"
   ]
  },
  {
   "cell_type": "code",
   "execution_count": null,
   "id": "d118222b-c092-46b2-bb53-c6a26d959d8b",
   "metadata": {},
   "outputs": [],
   "source": []
  },
  {
   "cell_type": "code",
   "execution_count": null,
   "id": "29753fe0-f052-43ed-85c0-4b1a031f8b8b",
   "metadata": {},
   "outputs": [],
   "source": [
    "Question 3 - Extracting GameStop Stock Data Using yfinance"
   ]
  },
  {
   "cell_type": "code",
   "execution_count": 26,
   "id": "6fda2048-f9ca-4155-8a24-581f81b8de1a",
   "metadata": {},
   "outputs": [],
   "source": [
    "import yfinance as yf"
   ]
  },
  {
   "cell_type": "code",
   "execution_count": 27,
   "id": "45d08889-7c9a-4ada-9569-84f8e8720b10",
   "metadata": {},
   "outputs": [],
   "source": [
    "# Create a ticker object for GameStop\n",
    "gme = yf.Ticker(\"GME\")"
   ]
  },
  {
   "cell_type": "code",
   "execution_count": 28,
   "id": "1c42ef62-cc53-48e7-a6ee-031ebb1b6688",
   "metadata": {},
   "outputs": [],
   "source": [
    "# Get historical stock price data (daily by default)\n",
    "gme_history = gme.history(period=\"1y\")"
   ]
  },
  {
   "cell_type": "code",
   "execution_count": 29,
   "id": "7b294a62-3478-47f3-a665-7c6952806ae9",
   "metadata": {},
   "outputs": [
    {
     "name": "stdout",
     "output_type": "stream",
     "text": [
      "                                Open       High        Low      Close  \\\n",
      "Date                                                                    \n",
      "2024-06-13 00:00:00-04:00  26.559999  29.580000  25.559999  29.120001   \n",
      "2024-06-14 00:00:00-04:00  29.230000  30.660000  27.410000  28.700001   \n",
      "2024-06-17 00:00:00-04:00  28.549999  29.180000  23.790001  25.219999   \n",
      "2024-06-18 00:00:00-04:00  24.580000  25.969999  23.610001  24.700001   \n",
      "2024-06-20 00:00:00-04:00  24.250000  25.930000  23.650000  25.590000   \n",
      "\n",
      "                              Volume  Dividends  Stock Splits  \n",
      "Date                                                           \n",
      "2024-06-13 00:00:00-04:00  107306600        0.0           0.0  \n",
      "2024-06-14 00:00:00-04:00   82874400        0.0           0.0  \n",
      "2024-06-17 00:00:00-04:00   90351900        0.0           0.0  \n",
      "2024-06-18 00:00:00-04:00   38079200        0.0           0.0  \n",
      "2024-06-20 00:00:00-04:00   36029300        0.0           0.0  \n"
     ]
    }
   ],
   "source": [
    "print(gme_history.head())"
   ]
  },
  {
   "cell_type": "code",
   "execution_count": null,
   "id": "2b04402f-a0f1-4ebc-9abb-4756cbc49cbe",
   "metadata": {},
   "outputs": [],
   "source": []
  },
  {
   "cell_type": "code",
   "execution_count": null,
   "id": "dccdaf5e-405a-4f61-a30f-7c2d66012249",
   "metadata": {},
   "outputs": [],
   "source": []
  },
  {
   "cell_type": "code",
   "execution_count": null,
   "id": "dfad8c40-5cb5-42f5-8637-eecd14fe7ead",
   "metadata": {},
   "outputs": [],
   "source": [
    "Question 4 - Extracting GameStop Revenue Data Using Webscraping"
   ]
  },
  {
   "cell_type": "code",
   "execution_count": 30,
   "id": "f5566f1f-b5dc-4ed3-a7a7-c7a3fa4f4613",
   "metadata": {},
   "outputs": [],
   "source": [
    "import requests\n",
    "from bs4 import BeautifulSoup\n",
    "import pandas as pd"
   ]
  },
  {
   "cell_type": "code",
   "execution_count": 31,
   "id": "56332979-9417-4d66-95c0-54751b207d00",
   "metadata": {},
   "outputs": [],
   "source": [
    "# URL of GameStop revenue data\n",
    "url = 'https://www.macrotrends.net/stocks/charts/GME/gamestop/revenue'\n"
   ]
  },
  {
   "cell_type": "code",
   "execution_count": 32,
   "id": "0434ffdf-33bb-4c65-9ef6-bcad13cff875",
   "metadata": {},
   "outputs": [],
   "source": [
    "# Simulate a browser visit\n",
    "headers = {\n",
    "    \"User-Agent\": \"Mozilla/5.0\"\n",
    "}\n"
   ]
  },
  {
   "cell_type": "code",
   "execution_count": 33,
   "id": "b902312c-724a-44a3-b0e7-f68f712dc8d6",
   "metadata": {},
   "outputs": [],
   "source": [
    "# Send request\n",
    "response = requests.get(url, headers=headers)"
   ]
  },
  {
   "cell_type": "code",
   "execution_count": 34,
   "id": "f009002c-700d-4069-aaed-8104ea1c8418",
   "metadata": {},
   "outputs": [],
   "source": [
    "# Parse the HTML\n",
    "soup = BeautifulSoup(response.text, 'html.parser')"
   ]
  },
  {
   "cell_type": "code",
   "execution_count": 35,
   "id": "cf3efff0-0280-4bd9-86a9-f5ab07b5b6e6",
   "metadata": {},
   "outputs": [],
   "source": [
    "# Find all revenue tables\n",
    "tables = soup.find_all(\"table\", {\"class\": \"historical_data_table table\"})"
   ]
  },
  {
   "cell_type": "code",
   "execution_count": 36,
   "id": "9491cdab-59a3-419e-8466-da0f376d9c6f",
   "metadata": {},
   "outputs": [],
   "source": [
    "# Assume first table is what we need\n",
    "revenue_table = tables[0]"
   ]
  },
  {
   "cell_type": "code",
   "execution_count": 37,
   "id": "d555d5d4-2d42-40eb-bff8-2505363db8f1",
   "metadata": {},
   "outputs": [],
   "source": [
    "# Extract data\n",
    "data = []\n",
    "for row in revenue_table.find_all('tr')[1:]:  # Skip header row\n",
    "    cols = row.find_all('td')\n",
    "    if len(cols) == 2:\n",
    "        date = cols[0].text.strip()\n",
    "        revenue = cols[1].text.strip()\n",
    "        data.append([date, revenue])\n"
   ]
  },
  {
   "cell_type": "code",
   "execution_count": 38,
   "id": "5339718b-2bfd-4ad3-9246-b7c1fcbdb3be",
   "metadata": {},
   "outputs": [],
   "source": [
    "# Convert to DataFrame\n",
    "df = pd.DataFrame(data, columns=[\"Date\", \"Revenue\"])"
   ]
  },
  {
   "cell_type": "code",
   "execution_count": 39,
   "id": "4f8831a9-a53f-4c23-a5c1-1d64ae3e9166",
   "metadata": {},
   "outputs": [
    {
     "name": "stdout",
     "output_type": "stream",
     "text": [
      "   Date Revenue\n",
      "0  2025  $3,823\n",
      "1  2024  $5,273\n",
      "2  2023  $5,927\n",
      "3  2022  $6,011\n",
      "4  2021  $5,090\n"
     ]
    }
   ],
   "source": [
    "# Display\n",
    "print(df.head())"
   ]
  },
  {
   "cell_type": "code",
   "execution_count": null,
   "id": "7e19e835-b684-4003-a3cd-56a9de2e0583",
   "metadata": {},
   "outputs": [],
   "source": []
  },
  {
   "cell_type": "code",
   "execution_count": null,
   "id": "7f97480a-0747-4803-a1bd-68b991421fb1",
   "metadata": {},
   "outputs": [],
   "source": []
  }
 ],
 "metadata": {
  "kernelspec": {
   "display_name": "Python 3 (ipykernel)",
   "language": "python",
   "name": "python3"
  },
  "language_info": {
   "codemirror_mode": {
    "name": "ipython",
    "version": 3
   },
   "file_extension": ".py",
   "mimetype": "text/x-python",
   "name": "python",
   "nbconvert_exporter": "python",
   "pygments_lexer": "ipython3",
   "version": "3.13.5"
  }
 },
 "nbformat": 4,
 "nbformat_minor": 5
}
